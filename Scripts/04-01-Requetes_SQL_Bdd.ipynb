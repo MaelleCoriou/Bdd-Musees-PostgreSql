{
 "metadata": {
  "language_info": {
   "codemirror_mode": {
    "name": "ipython",
    "version": 3
   },
   "file_extension": ".py",
   "mimetype": "text/x-python",
   "name": "python",
   "nbconvert_exporter": "python",
   "pygments_lexer": "ipython3",
   "version": "3.8.10"
  },
  "orig_nbformat": 2,
  "kernelspec": {
   "name": "python3810jvsc74a57bd07dc1b309117f3f65eb34fc2c91c0798575ae88e93bee8159f4974fde104b5f5d",
   "display_name": "Python 3.8.10 64-bit"
  },
  "metadata": {
   "interpreter": {
    "hash": "7dc1b309117f3f65eb34fc2c91c0798575ae88e93bee8159f4974fde104b5f5d"
   }
  }
 },
 "nbformat": 4,
 "nbformat_minor": 2,
 "cells": [
  {
   "cell_type": "code",
   "execution_count": 1,
   "metadata": {},
   "outputs": [],
   "source": [
    "# Librairie Os pour les chemins de fichiers et variables d'environnement\n",
    "import os\n",
    "# Librairie csv pour créer et lire le format csv\n",
    "import csv\n",
    "# Lien au fichier Python pour exécuter ses fonctions\n",
    "import functions_PgSql\n",
    "# import Donnees\n",
    "import psycopg2\n",
    "import pandas as pd\n",
    "import numpy as np\n",
    "\n",
    " \n",
    "# Spécifier le nom de la base de données créée au préalable dans PgAdmin\n",
    "ma_base_donnees = \"Musees_V3\"\n",
    "utilisateur = \"postgres\"\n",
    "\n",
    "# Méthode os.environ.get pour utiliser le mot de passe \n",
    "# enregistré au préalable dans une variable d'environnement\n",
    "mot_passe = os.environ.get('pg_psw')\n",
    "\n",
    "# Fonction conn appelle la fonction ouvrir_connexion du fichier annexe Python\n",
    "conn = functions_PgSql.ouvrir_connection(ma_base_donnees, utilisateur, mot_passe)\n"
   ]
  },
  {
   "source": [
    "## VUES SQL"
   ],
   "cell_type": "markdown",
   "metadata": {}
  },
  {
   "cell_type": "code",
   "execution_count": 2,
   "metadata": {},
   "outputs": [],
   "source": [
    "# Création vue Oeuvres avec infos Artistes et Titres d'oeuvres\n",
    "creation_vue_Oeuvres_Artistes = \"\"\"\n",
    "        CREATE VIEW v_Oeuvres_Artistes (\n",
    "        Nom_Artiste,\n",
    "        Id_Oeuvre,\n",
    "        Titre_Oeuvre,\n",
    "        Denomination_Oeuvre,\n",
    "        Materieux_Techniques_Oeuvre,\n",
    "        Sujet_Represente,\n",
    "        Periode_Oeuvre,\n",
    "        Id_Museo\n",
    "        )\n",
    "    AS\n",
    "        SELECT a.nom_artiste, \n",
    "               o.id_oeuvre,\n",
    "               o.titre_oeuvre, \n",
    "               o.denomination, \n",
    "               o.materiaux_techniques, \n",
    "               o.sujet_represente, \n",
    "               o.periode_creation, \n",
    "               o.id_museo\n",
    "        FROM oeuvre o, oeuvre_artiste oa, artiste a\n",
    "        \n",
    "        WHERE o.id_oeuvre = oa.id_oeuvre\n",
    "        AND oa.id_artiste = a.id_artiste;\n",
    "\"\"\""
   ]
  },
  {
   "cell_type": "code",
   "execution_count": 3,
   "metadata": {},
   "outputs": [],
   "source": [
    "functions_PgSql.executer_requete(creation_vue_Oeuvres_Artistes, conn)"
   ]
  },
  {
   "cell_type": "code",
   "execution_count": 4,
   "metadata": {},
   "outputs": [],
   "source": [
    "artistes_oeuvres = pd.read_sql_query(\"SELECT * FROM v_Oeuvres_Artistes WHERE nom_artiste LIKE '%RUBENS%' ORDER BY id_museo;\", conn)"
   ]
  },
  {
   "cell_type": "code",
   "execution_count": 5,
   "metadata": {},
   "outputs": [
    {
     "output_type": "execute_result",
     "data": {
      "text/plain": [
       "            nom_artiste  id_oeuvre  \\\n",
       "0  RUBENS PETRUS PAULUS      70309   \n",
       "1  RUBENS PETRUS PAULUS      70306   \n",
       "2  RUBENS PETRUS PAULUS      70426   \n",
       "3  RUBENS PETRUS PAULUS      70425   \n",
       "4    RUBENS PIERRE PAUL     126953   \n",
       "\n",
       "                                        titre_oeuvre denomination_oeuvre  \\\n",
       "0  SAINTE FAMILLE AVEC SAINTE ELISABETH ET SAINT ...             Tableau   \n",
       "1                                      LA VISITATION             Tableau   \n",
       "2  LE CHRIST TRIOMPHANT DE LA MORT ET DU PECHE, S...             Tableau   \n",
       "3                            SAINT FRANCOIS D'ASSISE             Tableau   \n",
       "4                        LE MARTYRE DE SAINT GEORGES                 NaN   \n",
       "\n",
       "  materieux_techniques_oeuvre  \\\n",
       "0    peinture à l'huile, bois   \n",
       "1    peinture à l'huile, bois   \n",
       "2    peinture à l'huile, bois   \n",
       "3   peinture à l'huile, toile   \n",
       "4                         NaN   \n",
       "\n",
       "                                    sujet_represente          periode_oeuvre  \\\n",
       "0  scène biblique (Sainte Famille, Vierge, Enfant...              17e siècle   \n",
       "1  scène biblique (Visitation, sainte Elisabeth, ...    1er quart 17e siècle   \n",
       "2  figure biblique (Salvator Mundi, Christ, en pi...    1er quart 17e siècle   \n",
       "3  figure (saint François d'Assise, en pied, mouton)  1ère moitié 17e siècle   \n",
       "4                                                NaN                     NaN   \n",
       "\n",
       "  id_museo  \n",
       "0    M0019  \n",
       "1    M0019  \n",
       "2    M0019  \n",
       "3    M0019  \n",
       "4    M0065  "
      ],
      "text/html": "<div>\n<style scoped>\n    .dataframe tbody tr th:only-of-type {\n        vertical-align: middle;\n    }\n\n    .dataframe tbody tr th {\n        vertical-align: top;\n    }\n\n    .dataframe thead th {\n        text-align: right;\n    }\n</style>\n<table border=\"1\" class=\"dataframe\">\n  <thead>\n    <tr style=\"text-align: right;\">\n      <th></th>\n      <th>nom_artiste</th>\n      <th>id_oeuvre</th>\n      <th>titre_oeuvre</th>\n      <th>denomination_oeuvre</th>\n      <th>materieux_techniques_oeuvre</th>\n      <th>sujet_represente</th>\n      <th>periode_oeuvre</th>\n      <th>id_museo</th>\n    </tr>\n  </thead>\n  <tbody>\n    <tr>\n      <th>0</th>\n      <td>RUBENS PETRUS PAULUS</td>\n      <td>70309</td>\n      <td>SAINTE FAMILLE AVEC SAINTE ELISABETH ET SAINT ...</td>\n      <td>Tableau</td>\n      <td>peinture à l'huile, bois</td>\n      <td>scène biblique (Sainte Famille, Vierge, Enfant...</td>\n      <td>17e siècle</td>\n      <td>M0019</td>\n    </tr>\n    <tr>\n      <th>1</th>\n      <td>RUBENS PETRUS PAULUS</td>\n      <td>70306</td>\n      <td>LA VISITATION</td>\n      <td>Tableau</td>\n      <td>peinture à l'huile, bois</td>\n      <td>scène biblique (Visitation, sainte Elisabeth, ...</td>\n      <td>1er quart 17e siècle</td>\n      <td>M0019</td>\n    </tr>\n    <tr>\n      <th>2</th>\n      <td>RUBENS PETRUS PAULUS</td>\n      <td>70426</td>\n      <td>LE CHRIST TRIOMPHANT DE LA MORT ET DU PECHE, S...</td>\n      <td>Tableau</td>\n      <td>peinture à l'huile, bois</td>\n      <td>figure biblique (Salvator Mundi, Christ, en pi...</td>\n      <td>1er quart 17e siècle</td>\n      <td>M0019</td>\n    </tr>\n    <tr>\n      <th>3</th>\n      <td>RUBENS PETRUS PAULUS</td>\n      <td>70425</td>\n      <td>SAINT FRANCOIS D'ASSISE</td>\n      <td>Tableau</td>\n      <td>peinture à l'huile, toile</td>\n      <td>figure (saint François d'Assise, en pied, mouton)</td>\n      <td>1ère moitié 17e siècle</td>\n      <td>M0019</td>\n    </tr>\n    <tr>\n      <th>4</th>\n      <td>RUBENS PIERRE PAUL</td>\n      <td>126953</td>\n      <td>LE MARTYRE DE SAINT GEORGES</td>\n      <td>NaN</td>\n      <td>NaN</td>\n      <td>NaN</td>\n      <td>NaN</td>\n      <td>M0065</td>\n    </tr>\n  </tbody>\n</table>\n</div>"
     },
     "metadata": {},
     "execution_count": 5
    }
   ],
   "source": [
    "artistes_oeuvres.head()"
   ]
  },
  {
   "cell_type": "code",
   "execution_count": 6,
   "metadata": {},
   "outputs": [],
   "source": [
    "# Création vue Oeuvres avec infos Catégories\n",
    "creation_vue_Oeuvres_Categories = \"\"\"\n",
    "        CREATE VIEW v_Oeuvres_Categories (\n",
    "        Nom_Categorie,\n",
    "        Id_oeuvre,\n",
    "        Titre_Oeuvre,\n",
    "        Denomination_Oeuvre,\n",
    "        Materieux_Techniques_Oeuvre,\n",
    "        Sujet_Represente,\n",
    "        Periode_Oeuvre,\n",
    "        Id_Museo\n",
    "        )\n",
    "    AS\n",
    "        SELECT c.domaine, \n",
    "               o.id_oeuvre,\n",
    "               o.titre_oeuvre, \n",
    "               o.denomination, \n",
    "               o.materiaux_techniques, \n",
    "               o.sujet_represente, \n",
    "               o.periode_creation, \n",
    "               o.id_museo\n",
    "        FROM oeuvre o, oeuvre_categorie oc, categorie c\n",
    "        \n",
    "        WHERE o.id_oeuvre = oc.id_oeuvre\n",
    "        AND oc.id_categorie = c.id_categorie;\n",
    "\"\"\""
   ]
  },
  {
   "cell_type": "code",
   "execution_count": 7,
   "metadata": {},
   "outputs": [],
   "source": [
    "functions_PgSql.executer_requete(creation_vue_Oeuvres_Categories, conn)"
   ]
  },
  {
   "cell_type": "code",
   "execution_count": 8,
   "metadata": {},
   "outputs": [],
   "source": [
    "oeuvres_categories = pd.read_sql_query(\"SELECT * FROM v_Oeuvres_Categories WHERE Nom_Categorie LIKE '%%';\", conn)"
   ]
  },
  {
   "cell_type": "code",
   "execution_count": 9,
   "metadata": {},
   "outputs": [
    {
     "output_type": "execute_result",
     "data": {
      "text/plain": [
       "  nom_categorie  id_oeuvre                           titre_oeuvre  \\\n",
       "0     SCULPTURE          0                      VIERGE A L'ENFANT   \n",
       "1     SCULPTURE          1         LA TRINITE, COMPASSION DU PERE   \n",
       "2     SCULPTURE          2                          SAINTE SAVINE   \n",
       "3     SCULPTURE          3  L'ASTRONOMIE, LA SYBILLE DE CUMES (?)   \n",
       "4     SCULPTURE          4                               LETTRE F   \n",
       "\n",
       "     denomination_oeuvre                        materieux_techniques_oeuvre  \\\n",
       "0                 Statue   marbre, taille directe,revers plat, poli, dorure   \n",
       "1           Groupe relié  modelage,revers partiellement évidé,terre cuit...   \n",
       "2                 Statue             taille directe,revers travaillé,pierre   \n",
       "3                 Statue                                             pierre   \n",
       "4  Image ouvrante,relief                  Bas-relief,taille en réserve,bois   \n",
       "\n",
       "                                    sujet_represente          periode_oeuvre  \\\n",
       "0  figures bibliques (Vierge à l'Enfant, en pied,...  1ère moitié 16e siècle   \n",
       "1                        figures bibliques (Trinité)    1er quart 17e siècle   \n",
       "2  figure (sainte Savine, en pied, livre, bijou, ...              16e siècle   \n",
       "3  figure (allégorie : astronomie, femme, en pied...              16e siècle   \n",
       "4  scène biblique (Calvaire, en médaillon),figure...    1er quart 16e siècle   \n",
       "\n",
       "  id_museo  \n",
       "0    M5012  \n",
       "1    M5012  \n",
       "2    M5012  \n",
       "3    M5012  \n",
       "4    M5012  "
      ],
      "text/html": "<div>\n<style scoped>\n    .dataframe tbody tr th:only-of-type {\n        vertical-align: middle;\n    }\n\n    .dataframe tbody tr th {\n        vertical-align: top;\n    }\n\n    .dataframe thead th {\n        text-align: right;\n    }\n</style>\n<table border=\"1\" class=\"dataframe\">\n  <thead>\n    <tr style=\"text-align: right;\">\n      <th></th>\n      <th>nom_categorie</th>\n      <th>id_oeuvre</th>\n      <th>titre_oeuvre</th>\n      <th>denomination_oeuvre</th>\n      <th>materieux_techniques_oeuvre</th>\n      <th>sujet_represente</th>\n      <th>periode_oeuvre</th>\n      <th>id_museo</th>\n    </tr>\n  </thead>\n  <tbody>\n    <tr>\n      <th>0</th>\n      <td>SCULPTURE</td>\n      <td>0</td>\n      <td>VIERGE A L'ENFANT</td>\n      <td>Statue</td>\n      <td>marbre, taille directe,revers plat, poli, dorure</td>\n      <td>figures bibliques (Vierge à l'Enfant, en pied,...</td>\n      <td>1ère moitié 16e siècle</td>\n      <td>M5012</td>\n    </tr>\n    <tr>\n      <th>1</th>\n      <td>SCULPTURE</td>\n      <td>1</td>\n      <td>LA TRINITE, COMPASSION DU PERE</td>\n      <td>Groupe relié</td>\n      <td>modelage,revers partiellement évidé,terre cuit...</td>\n      <td>figures bibliques (Trinité)</td>\n      <td>1er quart 17e siècle</td>\n      <td>M5012</td>\n    </tr>\n    <tr>\n      <th>2</th>\n      <td>SCULPTURE</td>\n      <td>2</td>\n      <td>SAINTE SAVINE</td>\n      <td>Statue</td>\n      <td>taille directe,revers travaillé,pierre</td>\n      <td>figure (sainte Savine, en pied, livre, bijou, ...</td>\n      <td>16e siècle</td>\n      <td>M5012</td>\n    </tr>\n    <tr>\n      <th>3</th>\n      <td>SCULPTURE</td>\n      <td>3</td>\n      <td>L'ASTRONOMIE, LA SYBILLE DE CUMES (?)</td>\n      <td>Statue</td>\n      <td>pierre</td>\n      <td>figure (allégorie : astronomie, femme, en pied...</td>\n      <td>16e siècle</td>\n      <td>M5012</td>\n    </tr>\n    <tr>\n      <th>4</th>\n      <td>SCULPTURE</td>\n      <td>4</td>\n      <td>LETTRE F</td>\n      <td>Image ouvrante,relief</td>\n      <td>Bas-relief,taille en réserve,bois</td>\n      <td>scène biblique (Calvaire, en médaillon),figure...</td>\n      <td>1er quart 16e siècle</td>\n      <td>M5012</td>\n    </tr>\n  </tbody>\n</table>\n</div>"
     },
     "metadata": {},
     "execution_count": 9
    }
   ],
   "source": [
    "oeuvres_categories.head()"
   ]
  },
  {
   "cell_type": "code",
   "execution_count": 10,
   "metadata": {},
   "outputs": [
    {
     "output_type": "stream",
     "name": "stdout",
     "text": [
      "(479429, 5)\n"
     ]
    },
    {
     "output_type": "execute_result",
     "data": {
      "text/plain": [
       "                                        titre_oeuvre  id_artiste  \\\n",
       "0  ' IRIS ' - PROJET POUR UNE SCULPTURE SERIELLE ...        1079   \n",
       "1     ' QUELLE FOLIE DE PENSER ENCORE AU MARIAGE ! '       13629   \n",
       "2  ' VEILLEUSE ' - ETUDE (TITRE INSCRIT SUR L'OEU...        1079   \n",
       "3                                               '69'        5378   \n",
       "4                                               '69'        5378   \n",
       "\n",
       "                     nom_artiste  \\\n",
       "0               DESCOMBIN MAXIME   \n",
       "1  GOYA Y LUCIENTES FRANCISCO DE   \n",
       "2               DESCOMBIN MAXIME   \n",
       "3                 HAUSMANN RAOUL   \n",
       "4                 HAUSMANN RAOUL   \n",
       "\n",
       "                                    precision_auteur ecole_pays  \n",
       "0            Le puley, 1909, charnay-lès-mâcon, 2003     FRANCE  \n",
       "1  fuendetodos, 1746, bordeaux, 1828, nationalité...    ESPAGNE  \n",
       "2            Le puley, 1909, charnay-lès-mâcon, 2003     FRANCE  \n",
       "3                        Vienne, 1886, limoges, 1971   AUTRICHE  \n",
       "4                        Vienne, 1886, limoges, 1971   AUTRICHE  "
      ],
      "text/html": "<div>\n<style scoped>\n    .dataframe tbody tr th:only-of-type {\n        vertical-align: middle;\n    }\n\n    .dataframe tbody tr th {\n        vertical-align: top;\n    }\n\n    .dataframe thead th {\n        text-align: right;\n    }\n</style>\n<table border=\"1\" class=\"dataframe\">\n  <thead>\n    <tr style=\"text-align: right;\">\n      <th></th>\n      <th>titre_oeuvre</th>\n      <th>id_artiste</th>\n      <th>nom_artiste</th>\n      <th>precision_auteur</th>\n      <th>ecole_pays</th>\n    </tr>\n  </thead>\n  <tbody>\n    <tr>\n      <th>0</th>\n      <td>' IRIS ' - PROJET POUR UNE SCULPTURE SERIELLE ...</td>\n      <td>1079</td>\n      <td>DESCOMBIN MAXIME</td>\n      <td>Le puley, 1909, charnay-lès-mâcon, 2003</td>\n      <td>FRANCE</td>\n    </tr>\n    <tr>\n      <th>1</th>\n      <td>' QUELLE FOLIE DE PENSER ENCORE AU MARIAGE ! '</td>\n      <td>13629</td>\n      <td>GOYA Y LUCIENTES FRANCISCO DE</td>\n      <td>fuendetodos, 1746, bordeaux, 1828, nationalité...</td>\n      <td>ESPAGNE</td>\n    </tr>\n    <tr>\n      <th>2</th>\n      <td>' VEILLEUSE ' - ETUDE (TITRE INSCRIT SUR L'OEU...</td>\n      <td>1079</td>\n      <td>DESCOMBIN MAXIME</td>\n      <td>Le puley, 1909, charnay-lès-mâcon, 2003</td>\n      <td>FRANCE</td>\n    </tr>\n    <tr>\n      <th>3</th>\n      <td>'69'</td>\n      <td>5378</td>\n      <td>HAUSMANN RAOUL</td>\n      <td>Vienne, 1886, limoges, 1971</td>\n      <td>AUTRICHE</td>\n    </tr>\n    <tr>\n      <th>4</th>\n      <td>'69'</td>\n      <td>5378</td>\n      <td>HAUSMANN RAOUL</td>\n      <td>Vienne, 1886, limoges, 1971</td>\n      <td>AUTRICHE</td>\n    </tr>\n  </tbody>\n</table>\n</div>"
     },
     "metadata": {},
     "execution_count": 10
    }
   ],
   "source": [
    "# Infos artistes et titres des oeuvres\n",
    "# Join table de relation many to many oeuvre_artiste\n",
    "requete = '''\n",
    "    SELECT o.titre_oeuvre, a.*\n",
    "    FROM oeuvre o\n",
    "    \n",
    "    RIGHT JOIN oeuvre_artiste oa\n",
    "        ON o.id_oeuvre = oa.id_oeuvre \n",
    "    RIGHT JOIN artiste a\n",
    "        ON oa.id_artiste = a.id_artiste\n",
    "    \n",
    "    ORDER BY titre_oeuvre;\n",
    "'''\n",
    "Info_Artiste_Titre = pd.read_sql_query(requete, conn)\n",
    "print(Info_Artiste_Titre.shape)\n",
    "Info_Artiste_Titre.head()"
   ]
  },
  {
   "cell_type": "code",
   "execution_count": 11,
   "metadata": {},
   "outputs": [
    {
     "output_type": "stream",
     "name": "stdout",
     "text": [
      "(479429, 2)\n"
     ]
    },
    {
     "output_type": "execute_result",
     "data": {
      "text/plain": [
       "                                        titre_oeuvre  \\\n",
       "0  ' IRIS ' - PROJET POUR UNE SCULPTURE SERIELLE ...   \n",
       "1     ' QUELLE FOLIE DE PENSER ENCORE AU MARIAGE ! '   \n",
       "2  ' VEILLEUSE ' - ETUDE (TITRE INSCRIT SUR L'OEU...   \n",
       "3                                               '69'   \n",
       "4                                               '69'   \n",
       "\n",
       "                     nom_artiste  \n",
       "0               DESCOMBIN MAXIME  \n",
       "1  GOYA Y LUCIENTES FRANCISCO DE  \n",
       "2               DESCOMBIN MAXIME  \n",
       "3                 HAUSMANN RAOUL  \n",
       "4                 HAUSMANN RAOUL  "
      ],
      "text/html": "<div>\n<style scoped>\n    .dataframe tbody tr th:only-of-type {\n        vertical-align: middle;\n    }\n\n    .dataframe tbody tr th {\n        vertical-align: top;\n    }\n\n    .dataframe thead th {\n        text-align: right;\n    }\n</style>\n<table border=\"1\" class=\"dataframe\">\n  <thead>\n    <tr style=\"text-align: right;\">\n      <th></th>\n      <th>titre_oeuvre</th>\n      <th>nom_artiste</th>\n    </tr>\n  </thead>\n  <tbody>\n    <tr>\n      <th>0</th>\n      <td>' IRIS ' - PROJET POUR UNE SCULPTURE SERIELLE ...</td>\n      <td>DESCOMBIN MAXIME</td>\n    </tr>\n    <tr>\n      <th>1</th>\n      <td>' QUELLE FOLIE DE PENSER ENCORE AU MARIAGE ! '</td>\n      <td>GOYA Y LUCIENTES FRANCISCO DE</td>\n    </tr>\n    <tr>\n      <th>2</th>\n      <td>' VEILLEUSE ' - ETUDE (TITRE INSCRIT SUR L'OEU...</td>\n      <td>DESCOMBIN MAXIME</td>\n    </tr>\n    <tr>\n      <th>3</th>\n      <td>'69'</td>\n      <td>HAUSMANN RAOUL</td>\n    </tr>\n    <tr>\n      <th>4</th>\n      <td>'69'</td>\n      <td>HAUSMANN RAOUL</td>\n    </tr>\n  </tbody>\n</table>\n</div>"
     },
     "metadata": {},
     "execution_count": 11
    }
   ],
   "source": [
    "# Titre et nom artiste\n",
    "requete = '''\n",
    "    SELECT titre_oeuvre, nom_artiste\n",
    "    FROM oeuvre o\n",
    "    \n",
    "    JOIN oeuvre_artiste oa\n",
    "        ON o.id_oeuvre = oa.id_oeuvre \n",
    "    JOIN artiste a\n",
    "        ON oa.id_artiste = a.id_artiste\n",
    "    \n",
    "    ORDER BY titre_oeuvre;\n",
    "'''\n",
    "Titre_Artiste = pd.read_sql_query(requete, conn)\n",
    "print(Titre_Artiste.shape)\n",
    "Titre_Artiste.head()"
   ]
  },
  {
   "cell_type": "code",
   "execution_count": 12,
   "metadata": {},
   "outputs": [
    {
     "output_type": "stream",
     "name": "stdout",
     "text": [
      "(543, 2)\n"
     ]
    },
    {
     "output_type": "execute_result",
     "data": {
      "text/plain": [
       "                  nom_artiste  nb_oeuvre\n",
       "0                     INCONNU      18140\n",
       "1       MANUFACTURE DE SEVRES      17560\n",
       "2  CHAPU HENRI MICHEL ANTOINE       9811\n",
       "3               RODIN AUGUSTE       9426\n",
       "4               BOUDIN EUGENE       7871"
      ],
      "text/html": "<div>\n<style scoped>\n    .dataframe tbody tr th:only-of-type {\n        vertical-align: middle;\n    }\n\n    .dataframe tbody tr th {\n        vertical-align: top;\n    }\n\n    .dataframe thead th {\n        text-align: right;\n    }\n</style>\n<table border=\"1\" class=\"dataframe\">\n  <thead>\n    <tr style=\"text-align: right;\">\n      <th></th>\n      <th>nom_artiste</th>\n      <th>nb_oeuvre</th>\n    </tr>\n  </thead>\n  <tbody>\n    <tr>\n      <th>0</th>\n      <td>INCONNU</td>\n      <td>18140</td>\n    </tr>\n    <tr>\n      <th>1</th>\n      <td>MANUFACTURE DE SEVRES</td>\n      <td>17560</td>\n    </tr>\n    <tr>\n      <th>2</th>\n      <td>CHAPU HENRI MICHEL ANTOINE</td>\n      <td>9811</td>\n    </tr>\n    <tr>\n      <th>3</th>\n      <td>RODIN AUGUSTE</td>\n      <td>9426</td>\n    </tr>\n    <tr>\n      <th>4</th>\n      <td>BOUDIN EUGENE</td>\n      <td>7871</td>\n    </tr>\n  </tbody>\n</table>\n</div>"
     },
     "metadata": {},
     "execution_count": 12
    }
   ],
   "source": [
    "# Nombre d'oeuvres réalisées par artistes\n",
    "# Recherche par nom\n",
    "requete = '''\n",
    "    SELECT DISTINCT nom_artiste, \n",
    "           COUNT(o.id_oeuvre) AS Nb_Oeuvre\n",
    "    FROM oeuvre o\n",
    "    \n",
    "    JOIN oeuvre_artiste oa\n",
    "        ON o.id_oeuvre = oa.id_oeuvre \n",
    "    JOIN artiste a\n",
    "        ON oa.id_artiste = a.id_artiste\n",
    "    \n",
    "    WHERE nom_artiste <> 'ANONYME'\n",
    "    \n",
    "    GROUP BY nom_artiste\n",
    "    \n",
    "    HAVING COUNT(o.id_oeuvre) >= 100\n",
    "    \n",
    "    ORDER BY nb_oeuvre DESC;\n",
    "'''\n",
    "Nb_Oeuvres_Artiste = pd.read_sql_query(requete, conn)\n",
    "print(Nb_Oeuvres_Artiste.shape)\n",
    "Nb_Oeuvres_Artiste.head()"
   ]
  },
  {
   "cell_type": "code",
   "execution_count": 13,
   "metadata": {},
   "outputs": [
    {
     "output_type": "stream",
     "name": "stdout",
     "text": [
      "(1437, 4)\n"
     ]
    },
    {
     "output_type": "execute_result",
     "data": {
      "text/plain": [
       "           nom_artiste  nb_oeuvres             nom_musee   ville\n",
       "0              ANONYME         587  musée des Beaux-Arts  Nantes\n",
       "1   MERSON LUC OLIVIER         163  musée des Beaux-Arts  Nantes\n",
       "2  DELAUNAY JULES ELIE         118  musée des Beaux-Arts  Nantes\n",
       "3           GORIN JEAN         105  musée des Beaux-Arts  Nantes\n",
       "4    GORIN JEAN ALBERT         105  musée des Beaux-Arts  Nantes"
      ],
      "text/html": "<div>\n<style scoped>\n    .dataframe tbody tr th:only-of-type {\n        vertical-align: middle;\n    }\n\n    .dataframe tbody tr th {\n        vertical-align: top;\n    }\n\n    .dataframe thead th {\n        text-align: right;\n    }\n</style>\n<table border=\"1\" class=\"dataframe\">\n  <thead>\n    <tr style=\"text-align: right;\">\n      <th></th>\n      <th>nom_artiste</th>\n      <th>nb_oeuvres</th>\n      <th>nom_musee</th>\n      <th>ville</th>\n    </tr>\n  </thead>\n  <tbody>\n    <tr>\n      <th>0</th>\n      <td>ANONYME</td>\n      <td>587</td>\n      <td>musée des Beaux-Arts</td>\n      <td>Nantes</td>\n    </tr>\n    <tr>\n      <th>1</th>\n      <td>MERSON LUC OLIVIER</td>\n      <td>163</td>\n      <td>musée des Beaux-Arts</td>\n      <td>Nantes</td>\n    </tr>\n    <tr>\n      <th>2</th>\n      <td>DELAUNAY JULES ELIE</td>\n      <td>118</td>\n      <td>musée des Beaux-Arts</td>\n      <td>Nantes</td>\n    </tr>\n    <tr>\n      <th>3</th>\n      <td>GORIN JEAN</td>\n      <td>105</td>\n      <td>musée des Beaux-Arts</td>\n      <td>Nantes</td>\n    </tr>\n    <tr>\n      <th>4</th>\n      <td>GORIN JEAN ALBERT</td>\n      <td>105</td>\n      <td>musée des Beaux-Arts</td>\n      <td>Nantes</td>\n    </tr>\n  </tbody>\n</table>\n</div>"
     },
     "metadata": {},
     "execution_count": 13
    }
   ],
   "source": [
    "# Quels Artistes exposés par Ville\n",
    "# Recherche par Ville, Infos Musées et noms artistes\n",
    "# Utilisation de la vue v_Oeuvres_Artistes avec une autre jointure\n",
    "requete = \"\"\"\n",
    "    SELECT DISTINCT a.Nom_Artiste,\n",
    "           COUNT(a.id_oeuvre) AS Nb_Oeuvres,\n",
    "           m.nom_officiel AS Nom_Musee,\n",
    "           m.ville\n",
    "    FROM v_Oeuvres_Artistes a\n",
    "    \n",
    "    JOIN musee m \n",
    "        ON a.Id_Museo = m.Id_Museo\n",
    "    \n",
    "    WHERE m.ville = 'Nantes'\n",
    "    GROUP BY a.Nom_Artiste, m.nom_officiel, m.ville\n",
    "    ORDER BY Nom_Musee, Nb_Oeuvres DESC;\n",
    "\"\"\"\n",
    "Localiser_Ville = pd.read_sql_query(requete, conn)\n",
    "print(Localiser_Ville.shape)\n",
    "Localiser_Ville.head()"
   ]
  },
  {
   "cell_type": "code",
   "execution_count": 14,
   "metadata": {},
   "outputs": [
    {
     "output_type": "stream",
     "name": "stdout",
     "text": [
      "(24, 3)\n"
     ]
    },
    {
     "output_type": "execute_result",
     "data": {
      "text/plain": [
       "             nom_artiste                                          nom_musee  \\\n",
       "0  RENOIR PIERRE AUGUSTE                                      Château-musée   \n",
       "1  RENOIR PIERRE AUGUSTE        Domaine National de Versailles - Le château   \n",
       "2  RENOIR PIERRE AUGUSTE           Musée d'Art Moderne André Malraux - MuMa   \n",
       "3         RENOIR AUGUSTE  musée d'art moderne et contemporain de Strasbourg   \n",
       "4  RENOIR PIERRE AUGUSTE  musée d'art moderne et contemporain de Strasbourg   \n",
       "\n",
       "        ville  \n",
       "0      Dieppe  \n",
       "1  Versailles  \n",
       "2    Le Havre  \n",
       "3  Strasbourg  \n",
       "4  Strasbourg  "
      ],
      "text/html": "<div>\n<style scoped>\n    .dataframe tbody tr th:only-of-type {\n        vertical-align: middle;\n    }\n\n    .dataframe tbody tr th {\n        vertical-align: top;\n    }\n\n    .dataframe thead th {\n        text-align: right;\n    }\n</style>\n<table border=\"1\" class=\"dataframe\">\n  <thead>\n    <tr style=\"text-align: right;\">\n      <th></th>\n      <th>nom_artiste</th>\n      <th>nom_musee</th>\n      <th>ville</th>\n    </tr>\n  </thead>\n  <tbody>\n    <tr>\n      <th>0</th>\n      <td>RENOIR PIERRE AUGUSTE</td>\n      <td>Château-musée</td>\n      <td>Dieppe</td>\n    </tr>\n    <tr>\n      <th>1</th>\n      <td>RENOIR PIERRE AUGUSTE</td>\n      <td>Domaine National de Versailles - Le château</td>\n      <td>Versailles</td>\n    </tr>\n    <tr>\n      <th>2</th>\n      <td>RENOIR PIERRE AUGUSTE</td>\n      <td>Musée d'Art Moderne André Malraux - MuMa</td>\n      <td>Le Havre</td>\n    </tr>\n    <tr>\n      <th>3</th>\n      <td>RENOIR AUGUSTE</td>\n      <td>musée d'art moderne et contemporain de Strasbourg</td>\n      <td>Strasbourg</td>\n    </tr>\n    <tr>\n      <th>4</th>\n      <td>RENOIR PIERRE AUGUSTE</td>\n      <td>musée d'art moderne et contemporain de Strasbourg</td>\n      <td>Strasbourg</td>\n    </tr>\n  </tbody>\n</table>\n</div>"
     },
     "metadata": {},
     "execution_count": 14
    }
   ],
   "source": [
    "# Quels Musées Exposent un Artiste\n",
    "# Recherche par Nom Artiste, Infos Musées et noms artistes\n",
    "# Utilisation de la vue v_Oeuvres_Artistes avec une autre jointure\n",
    "requete = \"\"\"\n",
    "    SELECT DISTINCT a.Nom_Artiste,\n",
    "           m.nom_officiel AS Nom_Musee,\n",
    "           m.ville\n",
    "    FROM v_Oeuvres_Artistes a\n",
    "    \n",
    "    JOIN musee m \n",
    "        ON a.Id_Museo = m.Id_Museo\n",
    "    \n",
    "    WHERE  a.Nom_Artiste LIKE '%RENOI%'\n",
    "    \n",
    "    ORDER BY Nom_Musee, ville;\n",
    "\"\"\"\n",
    "Localiser_Artiste = pd.read_sql_query(requete, conn)\n",
    "print(Localiser_Artiste.shape)\n",
    "Localiser_Artiste.head()"
   ]
  },
  {
   "cell_type": "code",
   "execution_count": 15,
   "metadata": {},
   "outputs": [
    {
     "output_type": "stream",
     "name": "stdout",
     "text": [
      "(38, 4)\n"
     ]
    },
    {
     "output_type": "execute_result",
     "data": {
      "text/plain": [
       "                       nom_artiste  nb_oeuvres  \\\n",
       "0                VINCI LEONARDO DA         187   \n",
       "1                 VINCIDOR TOMMASO          12   \n",
       "2   LEONARDO DI SER PIERO DA VINCI          10   \n",
       "3                 VINCI LEONARD DE           8   \n",
       "4                 LEONARD DE VINCI           7   \n",
       "5                 LEONARD DE VINCI           6   \n",
       "6   LEONARDO DI SER PIERO DA VINCI           5   \n",
       "7                 VINCI LEONARD DE           5   \n",
       "8                 LEONARD DE VINCI           4   \n",
       "9   LEONARDO DI SER PIERO DA VINCI           3   \n",
       "10                LEONARD DE VINCI           3   \n",
       "11                LEONARD DE VINCI           2   \n",
       "12                LEONARD DE VINCI           2   \n",
       "13                LEONARD DE VINCI           2   \n",
       "14                LEONARD DE VINCI           2   \n",
       "15                LEONARD DE VINCI           2   \n",
       "16                LEONARD DE VINCI           2   \n",
       "17  LEONARDO DI SER PIERO DA VINCI           2   \n",
       "18  LEONARDO DI SER PIERO DA VINCI           2   \n",
       "19               VINCI LEONARDO DA           2   \n",
       "20                LEONARD DE VINCI           2   \n",
       "21                VINCI PIERINO DA           2   \n",
       "22                VINCI LEONARD DE           2   \n",
       "23      VINCIDOR TOMMASO DI ANDREA           1   \n",
       "24                LEONARD DE VINCI           1   \n",
       "25                LEONARD DE VINCI           1   \n",
       "26                LEONARD DE VINCI           1   \n",
       "27                LEONARD DE VINCI           1   \n",
       "28                LEONARD DE VINCI           1   \n",
       "29                LEONARD DE VINCI           1   \n",
       "30               LEONARDO DA VINCI           1   \n",
       "31                PIERINO DA VINCI           1   \n",
       "32                VINCI LEONARD DE           1   \n",
       "33                VINCI LEONARD DE           1   \n",
       "34                VINCI LEONARD DE           1   \n",
       "35                VINCI MARGUERITE           1   \n",
       "36      VINCIDOR TOMMASO DI ANDREA           1   \n",
       "37                DE VINCI LEONARD           1   \n",
       "\n",
       "                                      nom_musee            ville  \n",
       "0                               musée du Louvre            Paris  \n",
       "1                               musée du Louvre            Paris  \n",
       "2                               musée du Louvre            Paris  \n",
       "3                               musée du Louvre            Paris  \n",
       "4                          musée Gustave Moreau            Paris  \n",
       "5                                  musée Ingres        Montauban  \n",
       "6                                  musée Ingres        Montauban  \n",
       "7                                  musée Ingres        Montauban  \n",
       "8                          musée des Beaux-Arts       Strasbourg  \n",
       "9                          musée des Beaux-Arts           Rennes  \n",
       "10                                  Musée Condé        Chantilly  \n",
       "11                       musée de la Chartreuse            Douai  \n",
       "12                     musée Boucher de Perthes        Abbeville  \n",
       "13                              musée du Louvre            Paris  \n",
       "14                         musée des Beaux-Arts           Nantes  \n",
       "15                         musée des Beaux-Arts         Chambéry  \n",
       "16                         musée des beaux-arts      Dijon Cedex  \n",
       "17  Domaine National de Versailles - Le château       Versailles  \n",
       "18                         musée des Beaux-Arts           Nantes  \n",
       "19                         musée des Beaux-Arts           Nantes  \n",
       "20                         musée des beaux-arts        Marseille  \n",
       "21                              musée du Louvre            Paris  \n",
       "22                         musée des Beaux-Arts           Rennes  \n",
       "23                              musée du Louvre            Paris  \n",
       "24     musée d'Art et d'Histoire Romain Rolland          Clamecy  \n",
       "25                                musée de Brou  Bourg-en-Bresse  \n",
       "26                               musée de Tessé          Le Mans  \n",
       "27                         musée des Beaux-Arts           Rennes  \n",
       "28                         musée des Beaux-Arts     Valenciennes  \n",
       "29        musée des Beaux-Arts et d’Archéologie           Troyes  \n",
       "30        musée des beaux-arts et d'archéologie             Dole  \n",
       "31                       musée de la Chartreuse            Douai  \n",
       "32                                  Musée Condé        Chantilly  \n",
       "33                         musée des beaux-arts             Caen  \n",
       "34                              musée municipal          Vendôme  \n",
       "35        musée des Beaux-Arts et d’Archéologie           Troyes  \n",
       "36                         musée des Beaux-Arts           Rennes  \n",
       "37                    musée Jean-Jacques Henner            Paris  "
      ],
      "text/html": "<div>\n<style scoped>\n    .dataframe tbody tr th:only-of-type {\n        vertical-align: middle;\n    }\n\n    .dataframe tbody tr th {\n        vertical-align: top;\n    }\n\n    .dataframe thead th {\n        text-align: right;\n    }\n</style>\n<table border=\"1\" class=\"dataframe\">\n  <thead>\n    <tr style=\"text-align: right;\">\n      <th></th>\n      <th>nom_artiste</th>\n      <th>nb_oeuvres</th>\n      <th>nom_musee</th>\n      <th>ville</th>\n    </tr>\n  </thead>\n  <tbody>\n    <tr>\n      <th>0</th>\n      <td>VINCI LEONARDO DA</td>\n      <td>187</td>\n      <td>musée du Louvre</td>\n      <td>Paris</td>\n    </tr>\n    <tr>\n      <th>1</th>\n      <td>VINCIDOR TOMMASO</td>\n      <td>12</td>\n      <td>musée du Louvre</td>\n      <td>Paris</td>\n    </tr>\n    <tr>\n      <th>2</th>\n      <td>LEONARDO DI SER PIERO DA VINCI</td>\n      <td>10</td>\n      <td>musée du Louvre</td>\n      <td>Paris</td>\n    </tr>\n    <tr>\n      <th>3</th>\n      <td>VINCI LEONARD DE</td>\n      <td>8</td>\n      <td>musée du Louvre</td>\n      <td>Paris</td>\n    </tr>\n    <tr>\n      <th>4</th>\n      <td>LEONARD DE VINCI</td>\n      <td>7</td>\n      <td>musée Gustave Moreau</td>\n      <td>Paris</td>\n    </tr>\n    <tr>\n      <th>5</th>\n      <td>LEONARD DE VINCI</td>\n      <td>6</td>\n      <td>musée Ingres</td>\n      <td>Montauban</td>\n    </tr>\n    <tr>\n      <th>6</th>\n      <td>LEONARDO DI SER PIERO DA VINCI</td>\n      <td>5</td>\n      <td>musée Ingres</td>\n      <td>Montauban</td>\n    </tr>\n    <tr>\n      <th>7</th>\n      <td>VINCI LEONARD DE</td>\n      <td>5</td>\n      <td>musée Ingres</td>\n      <td>Montauban</td>\n    </tr>\n    <tr>\n      <th>8</th>\n      <td>LEONARD DE VINCI</td>\n      <td>4</td>\n      <td>musée des Beaux-Arts</td>\n      <td>Strasbourg</td>\n    </tr>\n    <tr>\n      <th>9</th>\n      <td>LEONARDO DI SER PIERO DA VINCI</td>\n      <td>3</td>\n      <td>musée des Beaux-Arts</td>\n      <td>Rennes</td>\n    </tr>\n    <tr>\n      <th>10</th>\n      <td>LEONARD DE VINCI</td>\n      <td>3</td>\n      <td>Musée Condé</td>\n      <td>Chantilly</td>\n    </tr>\n    <tr>\n      <th>11</th>\n      <td>LEONARD DE VINCI</td>\n      <td>2</td>\n      <td>musée de la Chartreuse</td>\n      <td>Douai</td>\n    </tr>\n    <tr>\n      <th>12</th>\n      <td>LEONARD DE VINCI</td>\n      <td>2</td>\n      <td>musée Boucher de Perthes</td>\n      <td>Abbeville</td>\n    </tr>\n    <tr>\n      <th>13</th>\n      <td>LEONARD DE VINCI</td>\n      <td>2</td>\n      <td>musée du Louvre</td>\n      <td>Paris</td>\n    </tr>\n    <tr>\n      <th>14</th>\n      <td>LEONARD DE VINCI</td>\n      <td>2</td>\n      <td>musée des Beaux-Arts</td>\n      <td>Nantes</td>\n    </tr>\n    <tr>\n      <th>15</th>\n      <td>LEONARD DE VINCI</td>\n      <td>2</td>\n      <td>musée des Beaux-Arts</td>\n      <td>Chambéry</td>\n    </tr>\n    <tr>\n      <th>16</th>\n      <td>LEONARD DE VINCI</td>\n      <td>2</td>\n      <td>musée des beaux-arts</td>\n      <td>Dijon Cedex</td>\n    </tr>\n    <tr>\n      <th>17</th>\n      <td>LEONARDO DI SER PIERO DA VINCI</td>\n      <td>2</td>\n      <td>Domaine National de Versailles - Le château</td>\n      <td>Versailles</td>\n    </tr>\n    <tr>\n      <th>18</th>\n      <td>LEONARDO DI SER PIERO DA VINCI</td>\n      <td>2</td>\n      <td>musée des Beaux-Arts</td>\n      <td>Nantes</td>\n    </tr>\n    <tr>\n      <th>19</th>\n      <td>VINCI LEONARDO DA</td>\n      <td>2</td>\n      <td>musée des Beaux-Arts</td>\n      <td>Nantes</td>\n    </tr>\n    <tr>\n      <th>20</th>\n      <td>LEONARD DE VINCI</td>\n      <td>2</td>\n      <td>musée des beaux-arts</td>\n      <td>Marseille</td>\n    </tr>\n    <tr>\n      <th>21</th>\n      <td>VINCI PIERINO DA</td>\n      <td>2</td>\n      <td>musée du Louvre</td>\n      <td>Paris</td>\n    </tr>\n    <tr>\n      <th>22</th>\n      <td>VINCI LEONARD DE</td>\n      <td>2</td>\n      <td>musée des Beaux-Arts</td>\n      <td>Rennes</td>\n    </tr>\n    <tr>\n      <th>23</th>\n      <td>VINCIDOR TOMMASO DI ANDREA</td>\n      <td>1</td>\n      <td>musée du Louvre</td>\n      <td>Paris</td>\n    </tr>\n    <tr>\n      <th>24</th>\n      <td>LEONARD DE VINCI</td>\n      <td>1</td>\n      <td>musée d'Art et d'Histoire Romain Rolland</td>\n      <td>Clamecy</td>\n    </tr>\n    <tr>\n      <th>25</th>\n      <td>LEONARD DE VINCI</td>\n      <td>1</td>\n      <td>musée de Brou</td>\n      <td>Bourg-en-Bresse</td>\n    </tr>\n    <tr>\n      <th>26</th>\n      <td>LEONARD DE VINCI</td>\n      <td>1</td>\n      <td>musée de Tessé</td>\n      <td>Le Mans</td>\n    </tr>\n    <tr>\n      <th>27</th>\n      <td>LEONARD DE VINCI</td>\n      <td>1</td>\n      <td>musée des Beaux-Arts</td>\n      <td>Rennes</td>\n    </tr>\n    <tr>\n      <th>28</th>\n      <td>LEONARD DE VINCI</td>\n      <td>1</td>\n      <td>musée des Beaux-Arts</td>\n      <td>Valenciennes</td>\n    </tr>\n    <tr>\n      <th>29</th>\n      <td>LEONARD DE VINCI</td>\n      <td>1</td>\n      <td>musée des Beaux-Arts et d’Archéologie</td>\n      <td>Troyes</td>\n    </tr>\n    <tr>\n      <th>30</th>\n      <td>LEONARDO DA VINCI</td>\n      <td>1</td>\n      <td>musée des beaux-arts et d'archéologie</td>\n      <td>Dole</td>\n    </tr>\n    <tr>\n      <th>31</th>\n      <td>PIERINO DA VINCI</td>\n      <td>1</td>\n      <td>musée de la Chartreuse</td>\n      <td>Douai</td>\n    </tr>\n    <tr>\n      <th>32</th>\n      <td>VINCI LEONARD DE</td>\n      <td>1</td>\n      <td>Musée Condé</td>\n      <td>Chantilly</td>\n    </tr>\n    <tr>\n      <th>33</th>\n      <td>VINCI LEONARD DE</td>\n      <td>1</td>\n      <td>musée des beaux-arts</td>\n      <td>Caen</td>\n    </tr>\n    <tr>\n      <th>34</th>\n      <td>VINCI LEONARD DE</td>\n      <td>1</td>\n      <td>musée municipal</td>\n      <td>Vendôme</td>\n    </tr>\n    <tr>\n      <th>35</th>\n      <td>VINCI MARGUERITE</td>\n      <td>1</td>\n      <td>musée des Beaux-Arts et d’Archéologie</td>\n      <td>Troyes</td>\n    </tr>\n    <tr>\n      <th>36</th>\n      <td>VINCIDOR TOMMASO DI ANDREA</td>\n      <td>1</td>\n      <td>musée des Beaux-Arts</td>\n      <td>Rennes</td>\n    </tr>\n    <tr>\n      <th>37</th>\n      <td>DE VINCI LEONARD</td>\n      <td>1</td>\n      <td>musée Jean-Jacques Henner</td>\n      <td>Paris</td>\n    </tr>\n  </tbody>\n</table>\n</div>"
     },
     "metadata": {},
     "execution_count": 15
    }
   ],
   "source": [
    "# Quels Musées Exposent un Artiste et nombre d'oeuvres par Artistes\n",
    "# Recherche par Nom Artiste\n",
    "# Utilisation de la vue v_Oeuvres_Artistes avec une autre jointure\n",
    "requete = \"\"\"\n",
    "    SELECT a.Nom_Artiste, \n",
    "           COUNT(DISTINCT a.id_oeuvre) AS Nb_Oeuvres,\n",
    "           m.nom_officiel AS Nom_Musee,\n",
    "           m.ville\n",
    "    FROM v_Oeuvres_Artistes a\n",
    "    \n",
    "    JOIN musee m \n",
    "        ON a.Id_Museo = m.Id_Museo\n",
    "    \n",
    "    WHERE  a.Nom_Artiste LIKE '%VINCI%'\n",
    "    \n",
    "    GROUP BY a.Nom_Artiste, m.nom_officiel, m.ville \n",
    "    \n",
    "    ORDER BY nb_oeuvres DESC;\n",
    "\"\"\"\n",
    "Localiser_Artiste_Nb_Oeuvres = pd.read_sql_query(requete, conn)\n",
    "print(Localiser_Artiste_Nb_Oeuvres.shape)\n",
    "Localiser_Artiste_Nb_Oeuvres.head(38)"
   ]
  },
  {
   "cell_type": "code",
   "execution_count": 16,
   "metadata": {},
   "outputs": [
    {
     "output_type": "stream",
     "name": "stdout",
     "text": [
      "(484, 5)\n"
     ]
    },
    {
     "output_type": "execute_result",
     "data": {
      "text/plain": [
       "       nom_artiste  nb_oeuvres                             periode_oeuvre  \\\n",
       "0  BLOCH PIERRETTE           1                       1er quart 21e siècle   \n",
       "1  LESUEUR NATACHA           1                       1er quart 21e siècle   \n",
       "2   SUNDKVIST JOHN           3                       1er quart 21e siècle   \n",
       "3   VIALLAT CLAUDE           1  2e moitié 20e siècle,1er quart 21e siècle   \n",
       "4    VILLERS ANDRE           1  2e moitié 20e siècle,1er quart 21e siècle   \n",
       "\n",
       "       nom_musee    ville  \n",
       "0  musée Picasso  Antibes  \n",
       "1  musée Picasso  Antibes  \n",
       "2  musée Picasso  Antibes  \n",
       "3  musée Picasso  Antibes  \n",
       "4  musée Picasso  Antibes  "
      ],
      "text/html": "<div>\n<style scoped>\n    .dataframe tbody tr th:only-of-type {\n        vertical-align: middle;\n    }\n\n    .dataframe tbody tr th {\n        vertical-align: top;\n    }\n\n    .dataframe thead th {\n        text-align: right;\n    }\n</style>\n<table border=\"1\" class=\"dataframe\">\n  <thead>\n    <tr style=\"text-align: right;\">\n      <th></th>\n      <th>nom_artiste</th>\n      <th>nb_oeuvres</th>\n      <th>periode_oeuvre</th>\n      <th>nom_musee</th>\n      <th>ville</th>\n    </tr>\n  </thead>\n  <tbody>\n    <tr>\n      <th>0</th>\n      <td>BLOCH PIERRETTE</td>\n      <td>1</td>\n      <td>1er quart 21e siècle</td>\n      <td>musée Picasso</td>\n      <td>Antibes</td>\n    </tr>\n    <tr>\n      <th>1</th>\n      <td>LESUEUR NATACHA</td>\n      <td>1</td>\n      <td>1er quart 21e siècle</td>\n      <td>musée Picasso</td>\n      <td>Antibes</td>\n    </tr>\n    <tr>\n      <th>2</th>\n      <td>SUNDKVIST JOHN</td>\n      <td>3</td>\n      <td>1er quart 21e siècle</td>\n      <td>musée Picasso</td>\n      <td>Antibes</td>\n    </tr>\n    <tr>\n      <th>3</th>\n      <td>VIALLAT CLAUDE</td>\n      <td>1</td>\n      <td>2e moitié 20e siècle,1er quart 21e siècle</td>\n      <td>musée Picasso</td>\n      <td>Antibes</td>\n    </tr>\n    <tr>\n      <th>4</th>\n      <td>VILLERS ANDRE</td>\n      <td>1</td>\n      <td>2e moitié 20e siècle,1er quart 21e siècle</td>\n      <td>musée Picasso</td>\n      <td>Antibes</td>\n    </tr>\n  </tbody>\n</table>\n</div>"
     },
     "metadata": {},
     "execution_count": 16
    }
   ],
   "source": [
    "# Quels Musées Exposent un Artiste sur une période donnée\n",
    "# Recherche par période : siècle, Infos Musées et noms artistes et nombre d'oeuvres exposées\n",
    "# Utilisation de la vue v_Oeuvres_Artistes avec une autre jointure\n",
    "requete = \"\"\"\n",
    "    SELECT a.Nom_Artiste, \n",
    "           COUNT(a.id_oeuvre) AS Nb_Oeuvres,\n",
    "           a.periode_oeuvre,\n",
    "           m.nom_officiel AS Nom_Musee,\n",
    "           m.ville\n",
    "    FROM v_Oeuvres_Artistes a\n",
    "    \n",
    "    JOIN musee m \n",
    "        ON a.Id_Museo = m.Id_Museo\n",
    "    \n",
    "    WHERE  a.Periode_Oeuvre LIKE '%21%'\n",
    "    \n",
    "    GROUP BY a.Nom_Artiste, \n",
    "             a.periode_oeuvre, \n",
    "             m.nom_officiel, \n",
    "             m.ville\n",
    "    \n",
    "    ORDER BY ville;\n",
    "\"\"\"\n",
    "Localiser_Periode = pd.read_sql_query(requete, conn)\n",
    "print(Localiser_Periode.shape)\n",
    "Localiser_Periode.head()"
   ]
  },
  {
   "cell_type": "code",
   "execution_count": 17,
   "metadata": {},
   "outputs": [
    {
     "output_type": "stream",
     "name": "stdout",
     "text": [
      "(296, 4)\n"
     ]
    },
    {
     "output_type": "execute_result",
     "data": {
      "text/plain": [
       "        ville  total_oeuvres part_oeuvres  nb_musees\n",
       "0       Paris         166299      40.21 %         27\n",
       "1      Sèvres          17632       4.26 %          1\n",
       "2  Strasbourg          14795       3.58 %          7\n",
       "3   Marseille          14532       3.51 %          7\n",
       "4   Chantilly           9178       2.22 %          1"
      ],
      "text/html": "<div>\n<style scoped>\n    .dataframe tbody tr th:only-of-type {\n        vertical-align: middle;\n    }\n\n    .dataframe tbody tr th {\n        vertical-align: top;\n    }\n\n    .dataframe thead th {\n        text-align: right;\n    }\n</style>\n<table border=\"1\" class=\"dataframe\">\n  <thead>\n    <tr style=\"text-align: right;\">\n      <th></th>\n      <th>ville</th>\n      <th>total_oeuvres</th>\n      <th>part_oeuvres</th>\n      <th>nb_musees</th>\n    </tr>\n  </thead>\n  <tbody>\n    <tr>\n      <th>0</th>\n      <td>Paris</td>\n      <td>166299</td>\n      <td>40.21 %</td>\n      <td>27</td>\n    </tr>\n    <tr>\n      <th>1</th>\n      <td>Sèvres</td>\n      <td>17632</td>\n      <td>4.26 %</td>\n      <td>1</td>\n    </tr>\n    <tr>\n      <th>2</th>\n      <td>Strasbourg</td>\n      <td>14795</td>\n      <td>3.58 %</td>\n      <td>7</td>\n    </tr>\n    <tr>\n      <th>3</th>\n      <td>Marseille</td>\n      <td>14532</td>\n      <td>3.51 %</td>\n      <td>7</td>\n    </tr>\n    <tr>\n      <th>4</th>\n      <td>Chantilly</td>\n      <td>9178</td>\n      <td>2.22 %</td>\n      <td>1</td>\n    </tr>\n  </tbody>\n</table>\n</div>"
     },
     "metadata": {},
     "execution_count": 17
    }
   ],
   "source": [
    "# Poucentage d'oeuvres exposées par villes / total oeuvres\n",
    "requete = \"\"\"\n",
    "    SELECT m.ville,\n",
    "           COUNT(o.id_oeuvre) AS Total_Oeuvres,\n",
    "           ROUND(ROUND(COUNT(o.id_oeuvre),2)*100/(SELECT ROUND(COUNT(o.id_oeuvre),2) FROM oeuvre o),2) || ' %' AS Part_Oeuvres,\n",
    "           COUNT(DISTINCT o.Id_Museo) AS Nb_Musees\n",
    "    FROM oeuvre o,\n",
    "    \tmusee m\n",
    " \t\n",
    "    WHERE o.Id_Museo = m.Id_Museo\n",
    "    \n",
    "    GROUP BY ville\n",
    "    ORDER BY total_oeuvres DESC;\n",
    "\"\"\"\n",
    "Part_Oeuvres = pd.read_sql_query(requete, conn)\n",
    "print(Part_Oeuvres.shape)\n",
    "Part_Oeuvres.head()"
   ]
  },
  {
   "cell_type": "code",
   "execution_count": 18,
   "metadata": {},
   "outputs": [
    {
     "output_type": "stream",
     "name": "stdout",
     "text": [
      "(14, 4)\n"
     ]
    },
    {
     "output_type": "execute_result",
     "data": {
      "text/plain": [
       "                    nom_region  nb_musees  total_oeuvres part_oeuvres\n",
       "0                Ile-de-France         63         201572      48.74 %\n",
       "1              Hauts-de-France         37          39527       9.56 %\n",
       "2      Bourgogne-Franche-Comté         45          30916       7.48 %\n",
       "3                    Grand Est         45          28969       7.01 %\n",
       "4   Provence-Alpes-Côte d'Azur         40          27121       6.56 %\n",
       "5                    Occitanie         28          17945       4.34 %\n",
       "6             Pays-de-la-Loire         16          17277       4.18 %\n",
       "7         Auvergne-Rhône-Alpes         30          11790       2.85 %\n",
       "8           Nouvelle-Aquitaine         27          11611       2.81 %\n",
       "9                     Bretagne         14          11546       2.79 %\n",
       "10                   Normandie         39          11343       2.74 %\n",
       "11         Centre-Val de Loire         22           3717       0.90 %\n",
       "12                       Corse          2            117       0.03 %\n",
       "13                        DROM          4             89       0.02 %"
      ],
      "text/html": "<div>\n<style scoped>\n    .dataframe tbody tr th:only-of-type {\n        vertical-align: middle;\n    }\n\n    .dataframe tbody tr th {\n        vertical-align: top;\n    }\n\n    .dataframe thead th {\n        text-align: right;\n    }\n</style>\n<table border=\"1\" class=\"dataframe\">\n  <thead>\n    <tr style=\"text-align: right;\">\n      <th></th>\n      <th>nom_region</th>\n      <th>nb_musees</th>\n      <th>total_oeuvres</th>\n      <th>part_oeuvres</th>\n    </tr>\n  </thead>\n  <tbody>\n    <tr>\n      <th>0</th>\n      <td>Ile-de-France</td>\n      <td>63</td>\n      <td>201572</td>\n      <td>48.74 %</td>\n    </tr>\n    <tr>\n      <th>1</th>\n      <td>Hauts-de-France</td>\n      <td>37</td>\n      <td>39527</td>\n      <td>9.56 %</td>\n    </tr>\n    <tr>\n      <th>2</th>\n      <td>Bourgogne-Franche-Comté</td>\n      <td>45</td>\n      <td>30916</td>\n      <td>7.48 %</td>\n    </tr>\n    <tr>\n      <th>3</th>\n      <td>Grand Est</td>\n      <td>45</td>\n      <td>28969</td>\n      <td>7.01 %</td>\n    </tr>\n    <tr>\n      <th>4</th>\n      <td>Provence-Alpes-Côte d'Azur</td>\n      <td>40</td>\n      <td>27121</td>\n      <td>6.56 %</td>\n    </tr>\n    <tr>\n      <th>5</th>\n      <td>Occitanie</td>\n      <td>28</td>\n      <td>17945</td>\n      <td>4.34 %</td>\n    </tr>\n    <tr>\n      <th>6</th>\n      <td>Pays-de-la-Loire</td>\n      <td>16</td>\n      <td>17277</td>\n      <td>4.18 %</td>\n    </tr>\n    <tr>\n      <th>7</th>\n      <td>Auvergne-Rhône-Alpes</td>\n      <td>30</td>\n      <td>11790</td>\n      <td>2.85 %</td>\n    </tr>\n    <tr>\n      <th>8</th>\n      <td>Nouvelle-Aquitaine</td>\n      <td>27</td>\n      <td>11611</td>\n      <td>2.81 %</td>\n    </tr>\n    <tr>\n      <th>9</th>\n      <td>Bretagne</td>\n      <td>14</td>\n      <td>11546</td>\n      <td>2.79 %</td>\n    </tr>\n    <tr>\n      <th>10</th>\n      <td>Normandie</td>\n      <td>39</td>\n      <td>11343</td>\n      <td>2.74 %</td>\n    </tr>\n    <tr>\n      <th>11</th>\n      <td>Centre-Val de Loire</td>\n      <td>22</td>\n      <td>3717</td>\n      <td>0.90 %</td>\n    </tr>\n    <tr>\n      <th>12</th>\n      <td>Corse</td>\n      <td>2</td>\n      <td>117</td>\n      <td>0.03 %</td>\n    </tr>\n    <tr>\n      <th>13</th>\n      <td>DROM</td>\n      <td>4</td>\n      <td>89</td>\n      <td>0.02 %</td>\n    </tr>\n  </tbody>\n</table>\n</div>"
     },
     "metadata": {},
     "execution_count": 18
    }
   ],
   "source": [
    "# Poucentage d'oeuvres exposées par région, total oeuvres et musées\n",
    "requete = \"\"\"\n",
    "    SELECT r.nom_region,\n",
    "           COUNT(DISTINCT o.id_museo) AS Nb_Musees,\n",
    "           COUNT(o.id_oeuvre) AS Total_Oeuvres,\n",
    "           ROUND(ROUND(COUNT(o.id_oeuvre),2)*100/(SELECT ROUND(COUNT(o.id_oeuvre),2) FROM oeuvre o),2) || ' %' AS Part_Oeuvres\n",
    "    FROM oeuvre o,\n",
    "    \t musee m,\n",
    "         departement d,\n",
    "         region r\n",
    " \t\n",
    "    WHERE o.Id_Museo = m.Id_Museo\n",
    "    AND m.code_dpt = d.id_dpt\n",
    "    AND d.id_region = r.id_region\n",
    "    \n",
    "    GROUP BY nom_region\n",
    "    ORDER BY total_oeuvres DESC;\n",
    "\"\"\"\n",
    "Région_Oeuvres = pd.read_sql_query(requete, conn)\n",
    "print(Région_Oeuvres.shape)\n",
    "Région_Oeuvres.head(30)"
   ]
  },
  {
   "cell_type": "code",
   "execution_count": 19,
   "metadata": {},
   "outputs": [
    {
     "output_type": "stream",
     "name": "stdout",
     "text": [
      "(93, 4)\n"
     ]
    },
    {
     "output_type": "execute_result",
     "data": {
      "text/plain": [
       "    nom_departement  nb_musees  total_oeuvres part_oeuvres\n",
       "0             Paris         29         166989      40.38 %\n",
       "1    Hauts-de-Seine          8          19985       4.83 %\n",
       "2              Oise         10          19019       4.60 %\n",
       "3  Bouches-du-Rhône         14          17206       4.16 %\n",
       "4          Bas-Rhin         14          15140       3.66 %"
      ],
      "text/html": "<div>\n<style scoped>\n    .dataframe tbody tr th:only-of-type {\n        vertical-align: middle;\n    }\n\n    .dataframe tbody tr th {\n        vertical-align: top;\n    }\n\n    .dataframe thead th {\n        text-align: right;\n    }\n</style>\n<table border=\"1\" class=\"dataframe\">\n  <thead>\n    <tr style=\"text-align: right;\">\n      <th></th>\n      <th>nom_departement</th>\n      <th>nb_musees</th>\n      <th>total_oeuvres</th>\n      <th>part_oeuvres</th>\n    </tr>\n  </thead>\n  <tbody>\n    <tr>\n      <th>0</th>\n      <td>Paris</td>\n      <td>29</td>\n      <td>166989</td>\n      <td>40.38 %</td>\n    </tr>\n    <tr>\n      <th>1</th>\n      <td>Hauts-de-Seine</td>\n      <td>8</td>\n      <td>19985</td>\n      <td>4.83 %</td>\n    </tr>\n    <tr>\n      <th>2</th>\n      <td>Oise</td>\n      <td>10</td>\n      <td>19019</td>\n      <td>4.60 %</td>\n    </tr>\n    <tr>\n      <th>3</th>\n      <td>Bouches-du-Rhône</td>\n      <td>14</td>\n      <td>17206</td>\n      <td>4.16 %</td>\n    </tr>\n    <tr>\n      <th>4</th>\n      <td>Bas-Rhin</td>\n      <td>14</td>\n      <td>15140</td>\n      <td>3.66 %</td>\n    </tr>\n  </tbody>\n</table>\n</div>"
     },
     "metadata": {},
     "execution_count": 19
    }
   ],
   "source": [
    "# Poucentage d'oeuvres exposées par départements, total oeuvres et musées\n",
    "requete = \"\"\"\n",
    "    SELECT d.nom_departement,\n",
    "           COUNT(DISTINCT o.id_museo) AS Nb_Musees,\n",
    "           COUNT(o.id_oeuvre) AS Total_Oeuvres,\n",
    "           ROUND(ROUND(COUNT(o.id_oeuvre),2)*100/(SELECT ROUND(COUNT(o.id_oeuvre),2) \n",
    "                                                  FROM oeuvre o),2) || ' %' AS Part_Oeuvres\n",
    "    FROM oeuvre o,\n",
    "    \t musee m,\n",
    "         departement d\n",
    " \t\n",
    "    WHERE o.Id_Museo = m.Id_Museo\n",
    "    AND m.code_dpt = d.id_dpt\n",
    "    \n",
    "    GROUP BY nom_departement\n",
    "    ORDER BY total_oeuvres DESC;\n",
    "\"\"\"\n",
    "Dpt_Oeuvres = pd.read_sql_query(requete, conn)\n",
    "print(Dpt_Oeuvres.shape)\n",
    "Dpt_Oeuvres.head()"
   ]
  },
  {
   "cell_type": "code",
   "execution_count": 20,
   "metadata": {},
   "outputs": [
    {
     "output_type": "stream",
     "name": "stdout",
     "text": [
      "(296, 4)\n"
     ]
    },
    {
     "output_type": "execute_result",
     "data": {
      "text/plain": [
       "                    ville  nb_musees  total_oeuvres part_oeuvres\n",
       "0                   Paris         27         166299      40.21 %\n",
       "1                    Nice         10           7528       1.82 %\n",
       "2                   Rouen          8           4493       1.09 %\n",
       "3               Marseille          7          14532       3.51 %\n",
       "4                Toulouse          7           3443       0.83 %\n",
       "5              Strasbourg          7          14795       3.58 %\n",
       "6                Bordeaux          4           7812       1.89 %\n",
       "7         Aix-en-Provence          3             14       0.00 %\n",
       "8                   Dijon          3           2209       0.53 %\n",
       "9                 Bourges          3            573       0.14 %\n",
       "10                 Grasse          3            115       0.03 %\n",
       "11                  Nancy          3           3381       0.82 %\n",
       "12                 Nantes          3           4648       1.12 %\n",
       "13              Compiègne          3           1642       0.40 %\n",
       "14                  Arles          3           2656       0.64 %\n",
       "15               Besançon          3           3563       0.86 %\n",
       "16                   Lyon          3            573       0.14 %\n",
       "17                Avignon          2            452       0.11 %\n",
       "18                  Noyon          2            480       0.12 %\n",
       "19          Saint-Etienne          2              6       0.00 %\n",
       "20             Versailles          2           6707       1.62 %\n",
       "21  Saint-Germain-en-Laye          2           1882       0.46 %\n",
       "22                Orléans          2            634       0.15 %\n",
       "23  Cherbourg-en-Cotentin          2            660       0.16 %\n",
       "24                 Arbois          2            245       0.06 %\n",
       "25                  Autun          2           3279       0.79 %\n",
       "26             Saint-Omer          2            694       0.17 %\n",
       "27                    Pau          2           1642       0.40 %\n",
       "28                Bayonne          2            379       0.09 %\n",
       "29                Péronne          2            864       0.21 %"
      ],
      "text/html": "<div>\n<style scoped>\n    .dataframe tbody tr th:only-of-type {\n        vertical-align: middle;\n    }\n\n    .dataframe tbody tr th {\n        vertical-align: top;\n    }\n\n    .dataframe thead th {\n        text-align: right;\n    }\n</style>\n<table border=\"1\" class=\"dataframe\">\n  <thead>\n    <tr style=\"text-align: right;\">\n      <th></th>\n      <th>ville</th>\n      <th>nb_musees</th>\n      <th>total_oeuvres</th>\n      <th>part_oeuvres</th>\n    </tr>\n  </thead>\n  <tbody>\n    <tr>\n      <th>0</th>\n      <td>Paris</td>\n      <td>27</td>\n      <td>166299</td>\n      <td>40.21 %</td>\n    </tr>\n    <tr>\n      <th>1</th>\n      <td>Nice</td>\n      <td>10</td>\n      <td>7528</td>\n      <td>1.82 %</td>\n    </tr>\n    <tr>\n      <th>2</th>\n      <td>Rouen</td>\n      <td>8</td>\n      <td>4493</td>\n      <td>1.09 %</td>\n    </tr>\n    <tr>\n      <th>3</th>\n      <td>Marseille</td>\n      <td>7</td>\n      <td>14532</td>\n      <td>3.51 %</td>\n    </tr>\n    <tr>\n      <th>4</th>\n      <td>Toulouse</td>\n      <td>7</td>\n      <td>3443</td>\n      <td>0.83 %</td>\n    </tr>\n    <tr>\n      <th>5</th>\n      <td>Strasbourg</td>\n      <td>7</td>\n      <td>14795</td>\n      <td>3.58 %</td>\n    </tr>\n    <tr>\n      <th>6</th>\n      <td>Bordeaux</td>\n      <td>4</td>\n      <td>7812</td>\n      <td>1.89 %</td>\n    </tr>\n    <tr>\n      <th>7</th>\n      <td>Aix-en-Provence</td>\n      <td>3</td>\n      <td>14</td>\n      <td>0.00 %</td>\n    </tr>\n    <tr>\n      <th>8</th>\n      <td>Dijon</td>\n      <td>3</td>\n      <td>2209</td>\n      <td>0.53 %</td>\n    </tr>\n    <tr>\n      <th>9</th>\n      <td>Bourges</td>\n      <td>3</td>\n      <td>573</td>\n      <td>0.14 %</td>\n    </tr>\n    <tr>\n      <th>10</th>\n      <td>Grasse</td>\n      <td>3</td>\n      <td>115</td>\n      <td>0.03 %</td>\n    </tr>\n    <tr>\n      <th>11</th>\n      <td>Nancy</td>\n      <td>3</td>\n      <td>3381</td>\n      <td>0.82 %</td>\n    </tr>\n    <tr>\n      <th>12</th>\n      <td>Nantes</td>\n      <td>3</td>\n      <td>4648</td>\n      <td>1.12 %</td>\n    </tr>\n    <tr>\n      <th>13</th>\n      <td>Compiègne</td>\n      <td>3</td>\n      <td>1642</td>\n      <td>0.40 %</td>\n    </tr>\n    <tr>\n      <th>14</th>\n      <td>Arles</td>\n      <td>3</td>\n      <td>2656</td>\n      <td>0.64 %</td>\n    </tr>\n    <tr>\n      <th>15</th>\n      <td>Besançon</td>\n      <td>3</td>\n      <td>3563</td>\n      <td>0.86 %</td>\n    </tr>\n    <tr>\n      <th>16</th>\n      <td>Lyon</td>\n      <td>3</td>\n      <td>573</td>\n      <td>0.14 %</td>\n    </tr>\n    <tr>\n      <th>17</th>\n      <td>Avignon</td>\n      <td>2</td>\n      <td>452</td>\n      <td>0.11 %</td>\n    </tr>\n    <tr>\n      <th>18</th>\n      <td>Noyon</td>\n      <td>2</td>\n      <td>480</td>\n      <td>0.12 %</td>\n    </tr>\n    <tr>\n      <th>19</th>\n      <td>Saint-Etienne</td>\n      <td>2</td>\n      <td>6</td>\n      <td>0.00 %</td>\n    </tr>\n    <tr>\n      <th>20</th>\n      <td>Versailles</td>\n      <td>2</td>\n      <td>6707</td>\n      <td>1.62 %</td>\n    </tr>\n    <tr>\n      <th>21</th>\n      <td>Saint-Germain-en-Laye</td>\n      <td>2</td>\n      <td>1882</td>\n      <td>0.46 %</td>\n    </tr>\n    <tr>\n      <th>22</th>\n      <td>Orléans</td>\n      <td>2</td>\n      <td>634</td>\n      <td>0.15 %</td>\n    </tr>\n    <tr>\n      <th>23</th>\n      <td>Cherbourg-en-Cotentin</td>\n      <td>2</td>\n      <td>660</td>\n      <td>0.16 %</td>\n    </tr>\n    <tr>\n      <th>24</th>\n      <td>Arbois</td>\n      <td>2</td>\n      <td>245</td>\n      <td>0.06 %</td>\n    </tr>\n    <tr>\n      <th>25</th>\n      <td>Autun</td>\n      <td>2</td>\n      <td>3279</td>\n      <td>0.79 %</td>\n    </tr>\n    <tr>\n      <th>26</th>\n      <td>Saint-Omer</td>\n      <td>2</td>\n      <td>694</td>\n      <td>0.17 %</td>\n    </tr>\n    <tr>\n      <th>27</th>\n      <td>Pau</td>\n      <td>2</td>\n      <td>1642</td>\n      <td>0.40 %</td>\n    </tr>\n    <tr>\n      <th>28</th>\n      <td>Bayonne</td>\n      <td>2</td>\n      <td>379</td>\n      <td>0.09 %</td>\n    </tr>\n    <tr>\n      <th>29</th>\n      <td>Péronne</td>\n      <td>2</td>\n      <td>864</td>\n      <td>0.21 %</td>\n    </tr>\n  </tbody>\n</table>\n</div>"
     },
     "metadata": {},
     "execution_count": 20
    }
   ],
   "source": [
    "# Poucentage d'oeuvres exposées par villes, total oeuvres et musées\n",
    "requete = \"\"\"\n",
    "    SELECT m.ville,\n",
    "           COUNT(DISTINCT o.id_museo) AS Nb_Musees,\n",
    "           COUNT(o.id_oeuvre) AS Total_Oeuvres,\n",
    "           ROUND(ROUND(COUNT(o.id_oeuvre),2)*100/(SELECT ROUND(COUNT(o.id_oeuvre),2) \n",
    "                                                  FROM oeuvre o),2) || ' %' AS Part_Oeuvres\n",
    "    FROM oeuvre o,\n",
    "    \t musee m\n",
    " \t\n",
    "    WHERE o.Id_Museo = m.Id_Museo\n",
    "        \n",
    "    GROUP BY ville\n",
    "    ORDER BY nb_musees DESC;\n",
    "\"\"\"\n",
    "Villes_Oeuvres = pd.read_sql_query(requete, conn)\n",
    "print(Villes_Oeuvres.shape)\n",
    "Villes_Oeuvres.head(30)"
   ]
  },
  {
   "cell_type": "code",
   "execution_count": 21,
   "metadata": {},
   "outputs": [
    {
     "output_type": "stream",
     "name": "stdout",
     "text": [
      "(4518, 4)\n"
     ]
    },
    {
     "output_type": "execute_result",
     "data": {
      "text/plain": [
       "  date_acquisition  total_oeuvres part_oeuvres  nb_musees\n",
       "0             2011          17581       4.25 %         45\n",
       "1             1927          12508       3.02 %         61\n",
       "2             1930          11741       2.84 %         67\n",
       "3             1922          10248       2.48 %         62\n",
       "4             1916           9196       2.22 %         30"
      ],
      "text/html": "<div>\n<style scoped>\n    .dataframe tbody tr th:only-of-type {\n        vertical-align: middle;\n    }\n\n    .dataframe tbody tr th {\n        vertical-align: top;\n    }\n\n    .dataframe thead th {\n        text-align: right;\n    }\n</style>\n<table border=\"1\" class=\"dataframe\">\n  <thead>\n    <tr style=\"text-align: right;\">\n      <th></th>\n      <th>date_acquisition</th>\n      <th>total_oeuvres</th>\n      <th>part_oeuvres</th>\n      <th>nb_musees</th>\n    </tr>\n  </thead>\n  <tbody>\n    <tr>\n      <th>0</th>\n      <td>2011</td>\n      <td>17581</td>\n      <td>4.25 %</td>\n      <td>45</td>\n    </tr>\n    <tr>\n      <th>1</th>\n      <td>1927</td>\n      <td>12508</td>\n      <td>3.02 %</td>\n      <td>61</td>\n    </tr>\n    <tr>\n      <th>2</th>\n      <td>1930</td>\n      <td>11741</td>\n      <td>2.84 %</td>\n      <td>67</td>\n    </tr>\n    <tr>\n      <th>3</th>\n      <td>1922</td>\n      <td>10248</td>\n      <td>2.48 %</td>\n      <td>62</td>\n    </tr>\n    <tr>\n      <th>4</th>\n      <td>1916</td>\n      <td>9196</td>\n      <td>2.22 %</td>\n      <td>30</td>\n    </tr>\n  </tbody>\n</table>\n</div>"
     },
     "metadata": {},
     "execution_count": 21
    }
   ],
   "source": [
    "# Dates d'acquisition, nombre d'oeuvres\n",
    "requete = \"\"\"\n",
    "    SELECT o.date_acquisition,\n",
    "           COUNT(o.id_oeuvre) AS Total_Oeuvres,\n",
    "           ROUND(ROUND(COUNT(o.id_oeuvre),2)*100/(SELECT ROUND(COUNT(o.id_oeuvre),2) FROM oeuvre o),2) || ' %' AS Part_Oeuvres,\n",
    "           COUNT(DISTINCT o.Id_Museo) AS Nb_Musees\n",
    "           \n",
    "    FROM oeuvre o,\n",
    "    \tmusee m\n",
    " \t\n",
    "    WHERE o.Id_Museo = m.Id_Museo\n",
    "    AND date_acquisition != 'NaN'\n",
    "    AND date_acquisition NOT LIKE '%acquisition%'\n",
    "\n",
    "    GROUP BY date_acquisition\n",
    "    ORDER BY total_oeuvres DESC;\n",
    "\"\"\"\n",
    "date_acquisition = pd.read_sql_query(requete, conn)\n",
    "print(date_acquisition.shape)\n",
    "date_acquisition.head()"
   ]
  },
  {
   "cell_type": "code",
   "execution_count": 22,
   "metadata": {},
   "outputs": [
    {
     "output_type": "stream",
     "name": "stdout",
     "text": [
      "(2, 5)\n"
     ]
    },
    {
     "output_type": "execute_result",
     "data": {
      "text/plain": [
       "   ville            nom_artiste  nb_musees  total_oeuvres part_oeuvres\n",
       "0  Paris  RENOIR PIERRE AUGUSTE          4            119      73.91 %\n",
       "1  Paris         RENOIR AUGUSTE          1              7       4.35 %"
      ],
      "text/html": "<div>\n<style scoped>\n    .dataframe tbody tr th:only-of-type {\n        vertical-align: middle;\n    }\n\n    .dataframe tbody tr th {\n        vertical-align: top;\n    }\n\n    .dataframe thead th {\n        text-align: right;\n    }\n</style>\n<table border=\"1\" class=\"dataframe\">\n  <thead>\n    <tr style=\"text-align: right;\">\n      <th></th>\n      <th>ville</th>\n      <th>nom_artiste</th>\n      <th>nb_musees</th>\n      <th>total_oeuvres</th>\n      <th>part_oeuvres</th>\n    </tr>\n  </thead>\n  <tbody>\n    <tr>\n      <th>0</th>\n      <td>Paris</td>\n      <td>RENOIR PIERRE AUGUSTE</td>\n      <td>4</td>\n      <td>119</td>\n      <td>73.91 %</td>\n    </tr>\n    <tr>\n      <th>1</th>\n      <td>Paris</td>\n      <td>RENOIR AUGUSTE</td>\n      <td>1</td>\n      <td>7</td>\n      <td>4.35 %</td>\n    </tr>\n  </tbody>\n</table>\n</div>"
     },
     "metadata": {},
     "execution_count": 22
    }
   ],
   "source": [
    "# Poucentage d'oeuvres exposées par villes, total oeuvres et musées\n",
    "# Filtre sur un artiste, modifier la sous requête SELECT ROUND et WHERE requête principale\n",
    "requete = \"\"\"\n",
    "    SELECT m.ville,\n",
    "           a.nom_artiste AS Nom_Artiste,\n",
    "           COUNT(DISTINCT a.id_museo) AS Nb_Musees,\n",
    "           COUNT(a.id_oeuvre) AS Total_Oeuvres,\n",
    "           ROUND(ROUND(COUNT(a.id_oeuvre),2)*100/(SELECT ROUND(COUNT(a.id_oeuvre),2) \n",
    "                                                  FROM v_Oeuvres_Artistes a\n",
    "                                                  WHERE a.nom_artiste LIKE '%RENOIR%'),2) || ' %' AS                                                   Part_Oeuvres\n",
    "    FROM musee m,\n",
    "         v_Oeuvres_Artistes a\n",
    "\n",
    "    WHERE a.Id_Museo = m.Id_Museo\n",
    "    AND a.nom_artiste LIKE '%RENOIR%'\n",
    "    AND ville = 'Paris'\n",
    "    GROUP BY ville, a.nom_artiste\n",
    "\n",
    "    ORDER BY nb_musees DESC;\n",
    "\"\"\"\n",
    "Villes_Oeuvres_Artiste = pd.read_sql_query(requete, conn)\n",
    "print(Villes_Oeuvres_Artiste.shape)\n",
    "Villes_Oeuvres_Artiste.head(30)"
   ]
  },
  {
   "cell_type": "code",
   "execution_count": 23,
   "metadata": {},
   "outputs": [
    {
     "output_type": "stream",
     "name": "stdout",
     "text": [
      "(132, 3)\n"
     ]
    },
    {
     "output_type": "execute_result",
     "data": {
      "text/plain": [
       "          nom_categorie  total_oeuvres  nb_musees\n",
       "0              PEINTURE          69952        309\n",
       "1             SCULPTURE          34055        287\n",
       "2                DESSIN         243852        277\n",
       "3             CÉRAMIQUE          30096        195\n",
       "4  CROYANCES - COUTUMES           4091        148"
      ],
      "text/html": "<div>\n<style scoped>\n    .dataframe tbody tr th:only-of-type {\n        vertical-align: middle;\n    }\n\n    .dataframe tbody tr th {\n        vertical-align: top;\n    }\n\n    .dataframe thead th {\n        text-align: right;\n    }\n</style>\n<table border=\"1\" class=\"dataframe\">\n  <thead>\n    <tr style=\"text-align: right;\">\n      <th></th>\n      <th>nom_categorie</th>\n      <th>total_oeuvres</th>\n      <th>nb_musees</th>\n    </tr>\n  </thead>\n  <tbody>\n    <tr>\n      <th>0</th>\n      <td>PEINTURE</td>\n      <td>69952</td>\n      <td>309</td>\n    </tr>\n    <tr>\n      <th>1</th>\n      <td>SCULPTURE</td>\n      <td>34055</td>\n      <td>287</td>\n    </tr>\n    <tr>\n      <th>2</th>\n      <td>DESSIN</td>\n      <td>243852</td>\n      <td>277</td>\n    </tr>\n    <tr>\n      <th>3</th>\n      <td>CÉRAMIQUE</td>\n      <td>30096</td>\n      <td>195</td>\n    </tr>\n    <tr>\n      <th>4</th>\n      <td>CROYANCES - COUTUMES</td>\n      <td>4091</td>\n      <td>148</td>\n    </tr>\n  </tbody>\n</table>\n</div>"
     },
     "metadata": {},
     "execution_count": 23
    }
   ],
   "source": [
    "# Total oeuvres par domaine et musées\n",
    "requete = \"\"\"\n",
    "    SELECT oc.Nom_Categorie,\n",
    "           COUNT(oc.Id_oeuvre) AS Total_Oeuvres,\n",
    "           COUNT(DISTINCT oc.id_museo) AS Nb_Musees\n",
    "    FROM v_Oeuvres_Categories oc\n",
    " \t\n",
    "    GROUP BY Nom_Categorie\n",
    "    ORDER BY nb_musees DESC;\n",
    "\"\"\"\n",
    "Categories_Oeuvres = pd.read_sql_query(requete, conn)\n",
    "print(Categories_Oeuvres.shape)\n",
    "Categories_Oeuvres.head()"
   ]
  },
  {
   "cell_type": "code",
   "execution_count": 24,
   "metadata": {},
   "outputs": [
    {
     "output_type": "stream",
     "name": "stdout",
     "text": [
      "(1, 4)\n"
     ]
    },
    {
     "output_type": "execute_result",
     "data": {
      "text/plain": [
       "    ville nom_categorie  total_oeuvres  nb_musees\n",
       "0  Nantes      PEINTURE           2380          3"
      ],
      "text/html": "<div>\n<style scoped>\n    .dataframe tbody tr th:only-of-type {\n        vertical-align: middle;\n    }\n\n    .dataframe tbody tr th {\n        vertical-align: top;\n    }\n\n    .dataframe thead th {\n        text-align: right;\n    }\n</style>\n<table border=\"1\" class=\"dataframe\">\n  <thead>\n    <tr style=\"text-align: right;\">\n      <th></th>\n      <th>ville</th>\n      <th>nom_categorie</th>\n      <th>total_oeuvres</th>\n      <th>nb_musees</th>\n    </tr>\n  </thead>\n  <tbody>\n    <tr>\n      <th>0</th>\n      <td>Nantes</td>\n      <td>PEINTURE</td>\n      <td>2380</td>\n      <td>3</td>\n    </tr>\n  </tbody>\n</table>\n</div>"
     },
     "metadata": {},
     "execution_count": 24
    }
   ],
   "source": [
    "# Total oeuvres par domaine et musées\n",
    "# Par domaine et villes\n",
    "# Recherche par ville et/ou domaine\n",
    "\n",
    "requete = \"\"\"\n",
    "    SELECT m.ville,\n",
    "           oc.Nom_Categorie,\n",
    "           COUNT(oc.id_oeuvre) AS Total_Oeuvres,\n",
    "           COUNT(DISTINCT oc.id_museo) AS Nb_Musees\n",
    "    FROM v_Oeuvres_Categories oc\n",
    " \t\n",
    "    JOIN musee m\n",
    "        ON oc.id_museo = m.id_museo\n",
    "\n",
    "    WHERE ville LIKE '%Nantes%' AND Nom_categorie LIKE '%PEINTURE%'\n",
    "\n",
    "    GROUP BY Nom_Categorie, m.ville;\n",
    "\"\"\"\n",
    "Categories_villes = pd.read_sql_query(requete, conn)\n",
    "print(Categories_villes.shape)\n",
    "Categories_villes.head()"
   ]
  },
  {
   "cell_type": "code",
   "execution_count": 25,
   "metadata": {},
   "outputs": [
    {
     "output_type": "stream",
     "name": "stdout",
     "text": [
      "(3466, 5)\n"
     ]
    },
    {
     "output_type": "execute_result",
     "data": {
      "text/plain": [
       "  nom_categorie  nombre_oeuvres  nombre_musees      geo_x     geo_y\n",
       "0       AFRIQUE               2              1  43.280400  5.380600\n",
       "1       AFRIQUE               7              1  43.300172  5.367602\n",
       "2       AFRIQUE               2              1  43.594189  1.448945\n",
       "3       AFRIQUE              10              1  43.602258  1.443132\n",
       "4       AFRIQUE               2              1  44.387609  6.655077"
      ],
      "text/html": "<div>\n<style scoped>\n    .dataframe tbody tr th:only-of-type {\n        vertical-align: middle;\n    }\n\n    .dataframe tbody tr th {\n        vertical-align: top;\n    }\n\n    .dataframe thead th {\n        text-align: right;\n    }\n</style>\n<table border=\"1\" class=\"dataframe\">\n  <thead>\n    <tr style=\"text-align: right;\">\n      <th></th>\n      <th>nom_categorie</th>\n      <th>nombre_oeuvres</th>\n      <th>nombre_musees</th>\n      <th>geo_x</th>\n      <th>geo_y</th>\n    </tr>\n  </thead>\n  <tbody>\n    <tr>\n      <th>0</th>\n      <td>AFRIQUE</td>\n      <td>2</td>\n      <td>1</td>\n      <td>43.280400</td>\n      <td>5.380600</td>\n    </tr>\n    <tr>\n      <th>1</th>\n      <td>AFRIQUE</td>\n      <td>7</td>\n      <td>1</td>\n      <td>43.300172</td>\n      <td>5.367602</td>\n    </tr>\n    <tr>\n      <th>2</th>\n      <td>AFRIQUE</td>\n      <td>2</td>\n      <td>1</td>\n      <td>43.594189</td>\n      <td>1.448945</td>\n    </tr>\n    <tr>\n      <th>3</th>\n      <td>AFRIQUE</td>\n      <td>10</td>\n      <td>1</td>\n      <td>43.602258</td>\n      <td>1.443132</td>\n    </tr>\n    <tr>\n      <th>4</th>\n      <td>AFRIQUE</td>\n      <td>2</td>\n      <td>1</td>\n      <td>44.387609</td>\n      <td>6.655077</td>\n    </tr>\n  </tbody>\n</table>\n</div>"
     },
     "metadata": {},
     "execution_count": 25
    }
   ],
   "source": [
    "# Total oeuvres par domaine et musées\n",
    "# Par domaine et villes\n",
    "# Recherche par ville et/ou domaine\n",
    "\n",
    "requete = \"\"\"\n",
    "            SELECT oc.nom_categorie,\n",
    "            COUNT(oc.id_oeuvre) as Nombre_Oeuvres,\n",
    "            COUNT(distinct oc.id_museo) as Nombre_Musees,\n",
    "            m.geo_x,\n",
    "            m.geo_y\n",
    "\n",
    "        FROM v_Oeuvres_Categories oc\n",
    "\n",
    "        JOIN musee m\n",
    "                ON oc.id_museo = m.id_museo\n",
    "        \n",
    "            WHERE geo_x != 'Nan' AND geo_y != 'Nan' \n",
    "            AND oc.nom_categorie LIKE '%%'\n",
    "            GROUP BY oc.nom_categorie, oc.nom_categorie, m.geo_x, m.geo_y;\n",
    "\"\"\"\n",
    "Categories_geo = pd.read_sql_query(requete, conn)\n",
    "print(Categories_geo.shape)\n",
    "Categories_geo.head()"
   ]
  },
  {
   "cell_type": "code",
   "execution_count": 26,
   "metadata": {},
   "outputs": [
    {
     "output_type": "stream",
     "name": "stdout",
     "text": [
      "(135, 2)\n"
     ]
    },
    {
     "output_type": "execute_result",
     "data": {
      "text/plain": [
       "             domaine  nb_domaine\n",
       "0           ÉTRUSQUE           1\n",
       "1    AFRIQUE DU NORD           1\n",
       "2    ARTS GRAPHIQUES           1\n",
       "3  SPECTACLE - FÀªTE           1\n",
       "4            MODERNE           1"
      ],
      "text/html": "<div>\n<style scoped>\n    .dataframe tbody tr th:only-of-type {\n        vertical-align: middle;\n    }\n\n    .dataframe tbody tr th {\n        vertical-align: top;\n    }\n\n    .dataframe thead th {\n        text-align: right;\n    }\n</style>\n<table border=\"1\" class=\"dataframe\">\n  <thead>\n    <tr style=\"text-align: right;\">\n      <th></th>\n      <th>domaine</th>\n      <th>nb_domaine</th>\n    </tr>\n  </thead>\n  <tbody>\n    <tr>\n      <th>0</th>\n      <td>ÉTRUSQUE</td>\n      <td>1</td>\n    </tr>\n    <tr>\n      <th>1</th>\n      <td>AFRIQUE DU NORD</td>\n      <td>1</td>\n    </tr>\n    <tr>\n      <th>2</th>\n      <td>ARTS GRAPHIQUES</td>\n      <td>1</td>\n    </tr>\n    <tr>\n      <th>3</th>\n      <td>SPECTACLE - FÀªTE</td>\n      <td>1</td>\n    </tr>\n    <tr>\n      <th>4</th>\n      <td>MODERNE</td>\n      <td>1</td>\n    </tr>\n  </tbody>\n</table>\n</div>"
     },
     "metadata": {},
     "execution_count": 26
    }
   ],
   "source": [
    "# Recherche doublons Domaine\n",
    "\n",
    "requete = \"\"\"\n",
    "    SELECT c.domaine,\n",
    "           COUNT(c.domaine) AS Nb_Domaine\n",
    "    FROM categorie c\n",
    "    GROUP BY c.domaine\n",
    "    ORDER BY Nb_Domaine DESC;\n",
    "\"\"\"\n",
    "Categories_check = pd.read_sql_query(requete, conn)\n",
    "print(Categories_check.shape)\n",
    "Categories_check.head()"
   ]
  },
  {
   "cell_type": "code",
   "execution_count": 27,
   "metadata": {},
   "outputs": [
    {
     "output_type": "stream",
     "name": "stdout",
     "text": [
      "(479429, 2)\n"
     ]
    },
    {
     "output_type": "execute_result",
     "data": {
      "text/plain": [
       "          ids  nb_ids\n",
       "0     9227 62       1\n",
       "1   8626 1859       1\n",
       "2     2365 62       1\n",
       "3  18011 1246       1\n",
       "4  14290 2178       1"
      ],
      "text/html": "<div>\n<style scoped>\n    .dataframe tbody tr th:only-of-type {\n        vertical-align: middle;\n    }\n\n    .dataframe tbody tr th {\n        vertical-align: top;\n    }\n\n    .dataframe thead th {\n        text-align: right;\n    }\n</style>\n<table border=\"1\" class=\"dataframe\">\n  <thead>\n    <tr style=\"text-align: right;\">\n      <th></th>\n      <th>ids</th>\n      <th>nb_ids</th>\n    </tr>\n  </thead>\n  <tbody>\n    <tr>\n      <th>0</th>\n      <td>9227 62</td>\n      <td>1</td>\n    </tr>\n    <tr>\n      <th>1</th>\n      <td>8626 1859</td>\n      <td>1</td>\n    </tr>\n    <tr>\n      <th>2</th>\n      <td>2365 62</td>\n      <td>1</td>\n    </tr>\n    <tr>\n      <th>3</th>\n      <td>18011 1246</td>\n      <td>1</td>\n    </tr>\n    <tr>\n      <th>4</th>\n      <td>14290 2178</td>\n      <td>1</td>\n    </tr>\n  </tbody>\n</table>\n</div>"
     },
     "metadata": {},
     "execution_count": 27
    }
   ],
   "source": [
    "# Recherche doublons Oeuvre_Artiste\n",
    "\n",
    "requete = \"\"\"\n",
    "    SELECT CONCAT(id_oeuvre, ' ', id_artiste) AS ids,\n",
    "           COUNT(CONCAT(id_oeuvre, ' ', id_artiste)) AS Nb_ids\n",
    "    FROM oeuvre_artiste\n",
    "    GROUP BY ids\n",
    "    ORDER BY Nb_ids DESC;\n",
    "\"\"\"\n",
    "OA_check = pd.read_sql_query(requete, conn)\n",
    "print(OA_check.shape)\n",
    "OA_check.head()"
   ]
  },
  {
   "source": [
    "## SUPPRIMER VUE"
   ],
   "cell_type": "markdown",
   "metadata": {}
  },
  {
   "cell_type": "code",
   "execution_count": null,
   "metadata": {},
   "outputs": [],
   "source": [
    "# Effacer une vue\n",
    "#functions_PgSql.executer_requete(\"DROP VIEW IF EXISTS v_Oeuvres_Categories;\", conn)"
   ]
  },
  {
   "cell_type": "code",
   "execution_count": null,
   "metadata": {},
   "outputs": [],
   "source": []
  }
 ]
}